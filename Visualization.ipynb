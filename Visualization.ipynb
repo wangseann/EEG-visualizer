{
 "cells": [
  {
   "cell_type": "code",
   "execution_count": null,
   "id": "8c50caab-1c42-40cf-bd44-1b1cced63ef4",
   "metadata": {},
   "outputs": [],
   "source": [
    "import mne\n",
    "from mne.datasets import sample\n",
    "from mne.minimum_norm import make_inverse_operator, apply_inverse\n",
    "\n",
    "# Load the sample data\n",
    "data_path = sample.data_path()\n",
    "raw = mne.io.read_raw_fif(data_path + '/MEG/sample/sample_audvis_raw.fif', preload=True)\n",
    "\n",
    "# Find events\n",
    "events = mne.find_events(raw)\n",
    "event_id = {'Auditory/Left': 1}\n",
    "epochs = mne.Epochs(raw, events, event_id, tmin=-0.1, tmax=0.4, baseline=(None, 0), preload=True)\n",
    "\n",
    "# Compute the evoked response (averaging the epochs)\n",
    "evoked = epochs.average()\n",
    "\n",
    "# Load the forward solution\n",
    "fwd = mne.read_forward_solution(data_path + '/MEG/sample/sample_audvis-meg-eeg-oct-6-fwd.fif')\n",
    "\n",
    "# Load the noise covariance matrix\n",
    "noise_cov = mne.read_cov(data_path + '/MEG/sample/sample_audvis-cov.fif')\n",
    "\n",
    "# Compute the inverse operator\n",
    "inverse_operator = make_inverse_operator(evoked.info, fwd, noise_cov, loose=0.2, depth=0.8)\n",
    "\n",
    "# Apply the inverse operator to get the source estimate\n",
    "method = \"MNE\"  # You can also try sLORETA, dSPM, eLORETA\n",
    "snr = 3.0\n",
    "lambda2 = 1.0 / snr ** 2\n",
    "stc = apply_inverse(evoked, inverse_operator, lambda2, method=method, pick_ori=None)\n",
    "\n",
    "# Visualize the source estimate on the 3D brain model\n",
    "brain = stc.plot(hemi='both', subjects_dir=data_path + '/subjects', subject='sample', time_viewer=True, transparent=True)\n"
   ]
  }
 ],
 "metadata": {
  "kernelspec": {
   "display_name": "Python 3 (ipykernel)",
   "language": "python",
   "name": "python3"
  },
  "language_info": {
   "codemirror_mode": {
    "name": "ipython",
    "version": 3
   },
   "file_extension": ".py",
   "mimetype": "text/x-python",
   "name": "python",
   "nbconvert_exporter": "python",
   "pygments_lexer": "ipython3",
   "version": "3.11.4"
  }
 },
 "nbformat": 4,
 "nbformat_minor": 5
}
